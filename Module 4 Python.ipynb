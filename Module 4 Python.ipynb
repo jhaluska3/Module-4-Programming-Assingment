{
 "cells": [
  {
   "cell_type": "code",
   "execution_count": 12,
   "id": "7965e7bf",
   "metadata": {},
   "outputs": [
    {
     "name": "stdout",
     "output_type": "stream",
     "text": [
      "Open 9-5 daily\n"
     ]
    }
   ],
   "source": [
    "#11.1\n",
    "import zoo\n",
    "zoo.hours()"
   ]
  },
  {
   "cell_type": "code",
   "execution_count": 13,
   "id": "55d93609",
   "metadata": {},
   "outputs": [
    {
     "name": "stdout",
     "output_type": "stream",
     "text": [
      "Open 9-5 daily\n"
     ]
    }
   ],
   "source": [
    "#11.2\n",
    "import zoo as menagerie\n",
    "menagerie.hours()"
   ]
  },
  {
   "cell_type": "code",
   "execution_count": 26,
   "id": "4b06b1ce",
   "metadata": {},
   "outputs": [
    {
     "name": "stdout",
     "output_type": "stream",
     "text": [
      "[('The Weirdstone of Brisingamen', 'Alan Garner', 1960), ('Perdido Street Station', 'China MiÃ©ville', 2000), ('Thud!', 'Terry Pratchett', 2005), ('The Spellman Files', 'Lisa Lutz', 2007), ('Small Gods', 'Terry Pratchett', 1992)]\n"
     ]
    }
   ],
   "source": [
    "#16.4-16.6 needed for 16.8\n",
    "import csv\n",
    "import sqlite3\n",
    "\n",
    "conn = sqlite3.connect('books.db')\n",
    "curs=conn.cursor()\n",
    "curs.execute('''CREATE TABLE IF NOT EXISTS bookTable (title TEXT, author TEXT, year INTEGER)''')\n",
    "\n",
    "with open('books2.csv') as bookIN: \n",
    "   dr = csv.DictReader(bookIN)\n",
    "   to_db = [(i['title'], i['author'], i['year']) for i in dr]\n",
    "curs.executemany(\"INSERT INTO bookTable (title, author, year) VALUES (?,?,?);\", to_db)\n",
    "curs.execute('SELECT * FROM bookTable ')\n",
    "rows=curs.fetchall()\n",
    "print(rows)\n",
    "conn.commit()\n",
    "conn.close()"
   ]
  },
  {
   "cell_type": "code",
   "execution_count": 27,
   "id": "682d703f",
   "metadata": {},
   "outputs": [
    {
     "name": "stdout",
     "output_type": "stream",
     "text": [
      "[('Perdido Street Station', 'China MiÃ©ville', 2000), ('Small Gods', 'Terry Pratchett', 1992), ('The Spellman Files', 'Lisa Lutz', 2007), ('The Weirdstone of Brisingamen', 'Alan Garner', 1960), ('Thud!', 'Terry Pratchett', 2005)]\n"
     ]
    }
   ],
   "source": [
    "#16.8\n",
    "import sqlalchemy as sa\n",
    "\n",
    "con = sa.create_engine('sqlite:///books.db')\n",
    "result = con.execute('SELECT * FROM bookTable ORDER BY title')\n",
    "rows=result.fetchall()\n",
    "print(rows)\n"
   ]
  },
  {
   "cell_type": "code",
   "execution_count": null,
   "id": "0c115dee",
   "metadata": {},
   "outputs": [],
   "source": []
  }
 ],
 "metadata": {
  "kernelspec": {
   "display_name": "Python 3 (ipykernel)",
   "language": "python",
   "name": "python3"
  },
  "language_info": {
   "codemirror_mode": {
    "name": "ipython",
    "version": 3
   },
   "file_extension": ".py",
   "mimetype": "text/x-python",
   "name": "python",
   "nbconvert_exporter": "python",
   "pygments_lexer": "ipython3",
   "version": "3.9.13"
  }
 },
 "nbformat": 4,
 "nbformat_minor": 5
}
